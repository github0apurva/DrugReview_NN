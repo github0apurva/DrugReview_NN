{
 "cells": [
  {
   "cell_type": "markdown",
   "metadata": {},
   "source": [
    "\n",
    "# Train a model on drug review dataset to predict the patient rating\n"
   ]
  },
  {
   "cell_type": "code",
   "execution_count": 64,
   "metadata": {},
   "outputs": [
    {
     "name": "stderr",
     "output_type": "stream",
     "text": [
      "[nltk_data] Downloading package stopwords to\n",
      "[nltk_data]     C:\\Users\\Apurva\\AppData\\Roaming\\nltk_data...\n",
      "[nltk_data]   Package stopwords is already up-to-date!\n"
     ]
    }
   ],
   "source": [
    "import numpy as np\n",
    "np.random.seed(27)\n",
    "from decimal import Decimal\n",
    "import time as tp\n",
    "import pandas as pd\n",
    "import matplotlib.pyplot as plt\n",
    "import seaborn as sns\n",
    "import tensorflow as tf\n",
    "from string import punctuation\n",
    "import nltk\n",
    "nltk.download('stopwords')\n",
    "from nltk.corpus import stopwords\n",
    "from nltk.stem import PorterStemmer\n",
    "import os\n",
    "from tensorflow.keras.layers import Embedding\n",
    "from tensorflow.keras.preprocessing.text import Tokenizer\n",
    "from tensorflow.keras.preprocessing.sequence import pad_sequences\n",
    "from tensorflow.keras import regularizers\n",
    "from tensorflow.keras.models import load_model\n",
    "from sklearn.externals import joblib"
   ]
  },
  {
   "cell_type": "markdown",
   "metadata": {},
   "source": [
    "#  DATA LOAD"
   ]
  },
  {
   "cell_type": "code",
   "execution_count": 65,
   "metadata": {},
   "outputs": [],
   "source": [
    "# parameters to be used during DATA LOAD & EDA\n",
    "param_EDA = {\n",
    "        'train_file' : \"C:/Users/Apurva/Desktop/CaseStudy/drugsCom_raw/drugsComTrain_raw.tsv\" ,\n",
    "        'test_file' : \"C:/Users/Apurva/Desktop/CaseStudy/drugsCom_raw/drugsComTest_raw.tsv\" \n",
    "        }\n",
    "\n",
    "# loading tab seperated data\n",
    "train_raw = pd.read_csv(param_EDA['train_file'], sep = \"\\t\" )\n",
    "test_raw = pd.read_csv(param_EDA['test_file'], sep = \"\\t\" )"
   ]
  },
  {
   "cell_type": "code",
   "execution_count": 66,
   "metadata": {},
   "outputs": [
    {
     "name": "stdout",
     "output_type": "stream",
     "text": [
      "train obs:  161297 \n",
      "test obs:  53766 \n",
      "no of features:  7\n",
      "Unnamed: 0       int64\n",
      "drugName        object\n",
      "condition       object\n",
      "review          object\n",
      "rating         float64\n",
      "date            object\n",
      "usefulCount      int64\n",
      "dtype: object \n",
      "           Unnamed: 0         rating    usefulCount\n",
      "count  161297.000000  161297.000000  161297.000000\n",
      "mean   115923.585305       6.994377      28.004755\n",
      "std     67004.445170       3.272329      36.403742\n",
      "min         2.000000       1.000000       0.000000\n",
      "25%     58063.000000       5.000000       6.000000\n",
      "50%    115744.000000       8.000000      16.000000\n",
      "75%    173776.000000      10.000000      36.000000\n",
      "max    232291.000000      10.000000    1291.000000\n",
      "   Unnamed: 0                  drugName                     condition  \\\n",
      "0      206461                 Valsartan  Left Ventricular Dysfunction   \n",
      "1       95260                Guanfacine                          ADHD   \n",
      "2       92703                    Lybrel                 Birth Control   \n",
      "3      138000                Ortho Evra                 Birth Control   \n",
      "4       35696  Buprenorphine / naloxone             Opiate Dependence   \n",
      "\n",
      "                                              review  rating  \\\n",
      "0  \"It has no side effect, I take it in combinati...     9.0   \n",
      "1  \"My son is halfway through his fourth week of ...     8.0   \n",
      "2  \"I used to take another oral contraceptive, wh...     5.0   \n",
      "3  \"This is my first time using any form of birth...     8.0   \n",
      "4  \"Suboxone has completely turned my life around...     9.0   \n",
      "\n",
      "                date  usefulCount  \n",
      "0       May 20, 2012           27  \n",
      "1     April 27, 2010          192  \n",
      "2  December 14, 2009           17  \n",
      "3   November 3, 2015           10  \n",
      "4  November 27, 2016           37  \n"
     ]
    }
   ],
   "source": [
    "# Reviewing the dimention of both the datasets\n",
    "print ( \"train obs: \", train_raw.shape[0], \"\\ntest obs: \", test_raw.shape[0], \"\\nno of features: \", train_raw.shape[1] )\n",
    "print (train_raw.dtypes , \"\\n\" , train_raw.describe() )\n",
    "print (train_raw.head())"
   ]
  },
  {
   "cell_type": "markdown",
   "metadata": {},
   "source": [
    "#### Abstract: \n",
    "The drug review dataset has 6 variables (excluding the unique identifier).\n",
    "    1. drugName (categorical): name of drug\n",
    "    2. condition (categorical): name of condition\n",
    "    3. review (text): patient review\n",
    "    4. rating (numerical): 10 star patient rating\n",
    "    5. date (date): date of review entry\n",
    "    6. usefulCount (numerical): number of users who found review useful\n",
    "The Training data has 160 thousand obervations and test has 50 thousand obervations. Both data has same variables."
   ]
  },
  {
   "cell_type": "markdown",
   "metadata": {},
   "source": [
    "\n",
    "\n"
   ]
  },
  {
   "cell_type": "markdown",
   "metadata": {},
   "source": [
    "# EDA"
   ]
  },
  {
   "cell_type": "markdown",
   "metadata": {},
   "source": [
    "## Dependent variable ( rating ) "
   ]
  },
  {
   "cell_type": "code",
   "execution_count": 67,
   "metadata": {},
   "outputs": [
    {
     "name": "stdout",
     "output_type": "stream",
     "text": [
      "Unique Value 10 ;  and the average is 6.99\n"
     ]
    }
   ],
   "source": [
    "print ( \"Unique Value\" , len(pd.unique(train_raw.rating)) , \";  and the average is\", round ( Decimal ( np.average (train_raw.rating)),2) )"
   ]
  },
  {
   "cell_type": "code",
   "execution_count": 68,
   "metadata": {},
   "outputs": [
    {
     "data": {
      "image/png": "[encoded data removed]",
      "text/plain": [
       "<Figure size 432x288 with 1 Axes>"
      ]
     },
     "metadata": {
      "needs_background": "light"
     },
     "output_type": "display_data"
    }
   ],
   "source": [
    "axes = train_raw['rating'].plot( kind = 'box', title = 'rating boxplot') "
   ]
  },
  {
   "cell_type": "code",
   "execution_count": 69,
   "metadata": {},
   "outputs": [
    {
     "data": {
      "image/png": "[encoded data removed]",
      "text/plain": [
       "<Figure size 432x288 with 1 Axes>"
      ]
     },
     "metadata": {
      "needs_background": "light"
     },
     "output_type": "display_data"
    }
   ],
   "source": [
    "axes = train_raw['rating'].value_counts().sort_index().plot( kind = 'bar', title = 'rating frequency distribution',color=\"coral\")"
   ]
  },
  {
   "cell_type": "code",
   "execution_count": 70,
   "metadata": {},
   "outputs": [
    {
     "data": {
      "image/png": "[encoded data removed]",
      "text/plain": [
       "<Figure size 432x288 with 1 Axes>"
      ]
     },
     "metadata": {
      "needs_background": "light"
     },
     "output_type": "display_data"
    }
   ],
   "source": [
    "sns.distplot(train_raw['rating'] , label='train')\n",
    "sns.distplot(test_raw['rating'], label='test')\n",
    "plt.legend();"
   ]
  },
  {
   "cell_type": "markdown",
   "metadata": {},
   "source": [
    "#### Abstract:\n",
    "The Rating has 10 unique values (1 -10). The mean is ~7 and median ~8, which means that on an average the ratings are good than bad. \n",
    "The frequency distributional shows a bimodal nature, with 2 peaks at 1 & 10, that is customers provides review when either they have a positive or negative feedback. As expected peak at 10 is higher than at 1, hence more number of customer with positive view has provided their feedback.\n",
    "The Distributiuon of rating between train and test is alike."
   ]
  },
  {
   "cell_type": "markdown",
   "metadata": {},
   "source": [
    "\n"
   ]
  },
  {
   "cell_type": "markdown",
   "metadata": {},
   "source": [
    "## Features (drugName, condition, usefulCount, date) "
   ]
  },
  {
   "cell_type": "markdown",
   "metadata": {},
   "source": [
    "### drugName"
   ]
  },
  {
   "cell_type": "code",
   "execution_count": 71,
   "metadata": {},
   "outputs": [
    {
     "data": {
      "text/plain": [
       "Text(0.5, 0, '% reviews')"
      ]
     },
     "execution_count": 71,
     "metadata": {},
     "output_type": "execute_result"
    },
    {
     "data": {
      "image/png": "[encoded data removed]",
      "text/plain": [
       "<Figure size 432x288 with 1 Axes>"
      ]
     },
     "metadata": {
      "needs_background": "light"
     },
     "output_type": "display_data"
    }
   ],
   "source": [
    "t = len(pd.unique(train_raw.drugName))\n",
    "b = round ( Decimal (100* np.sum ( train_raw['drugName'].value_counts()[0:10]/len(train_raw) )) , 2)\n",
    "axes = (train_raw['drugName'].value_counts()[0:10]/len(train_raw)).plot(kind = 'barh', title = 'top reviewed drug out of '+str(t)+\" (\"+str(b)+\"%)\")\n",
    "axes.set_xlabel(\"% reviews\")"
   ]
  },
  {
   "cell_type": "markdown",
   "metadata": {},
   "source": [
    "#### Abstract:\n",
    "Their are 3000+ unique drug names present in the training data. The top 10 is as shown in the above plot which encompasses 13% of the overall drug review."
   ]
  },
  {
   "cell_type": "markdown",
   "metadata": {},
   "source": [
    "### condition"
   ]
  },
  {
   "cell_type": "code",
   "execution_count": 72,
   "metadata": {},
   "outputs": [
    {
     "data": {
      "text/plain": [
       "Text(0.5, 0, '% reviews')"
      ]
     },
     "execution_count": 72,
     "metadata": {},
     "output_type": "execute_result"
    },
    {
     "data": {
      "image/png": "[encoded data removed]",
      "text/plain": [
       "<Figure size 432x288 with 1 Axes>"
      ]
     },
     "metadata": {
      "needs_background": "light"
     },
     "output_type": "display_data"
    }
   ],
   "source": [
    "t = len(pd.unique(train_raw.condition))\n",
    "b = round ( Decimal (100* np.sum ( train_raw['condition'].value_counts()[0:10]/len(train_raw) )) , 2)\n",
    "axes = (train_raw['condition'].value_counts()[0:10]/len(train_raw)).plot(kind = 'barh', title = 'top condition of total: '+str(t)+\" (\"+str(b)+\"%)\")\n",
    "axes.set_xlabel(\"% reviews\")"
   ]
  },
  {
   "cell_type": "markdown",
   "metadata": {},
   "source": [
    "#### Abstract:\n",
    "Their are 800+ unique condition present in the training data. The top (based on highest frequency) one being Birth Control, which alone factors for 17% of the training data.\n",
    "The top 10 condition can be seen in the above plot. It explains 46% of the entire training data, which means that just half the ratings are for other rest 875 conditions."
   ]
  },
  {
   "cell_type": "markdown",
   "metadata": {},
   "source": [
    "### usefulCount"
   ]
  },
  {
   "cell_type": "code",
   "execution_count": 73,
   "metadata": {},
   "outputs": [
    {
     "name": "stdout",
     "output_type": "stream",
     "text": [
      "           minimum:  0    maximum:  1291\n"
     ]
    },
    {
     "data": {
      "image/png": "[encoded data removed]",
      "text/plain": [
       "<Figure size 432x288 with 1 Axes>"
      ]
     },
     "metadata": {
      "needs_background": "light"
     },
     "output_type": "display_data"
    },
    {
     "data": {
      "image/png": "[encoded data removed]",
      "text/plain": [
       "<Figure size 432x288 with 1 Axes>"
      ]
     },
     "metadata": {
      "needs_background": "light"
     },
     "output_type": "display_data"
    }
   ],
   "source": [
    "sns.distplot(train_raw['usefulCount'])\n",
    "pd.pivot_table(train_raw, index='rating', values='usefulCount', aggfunc=np.average).plot( kind = 'bar',title = 'Avg Useful Count' )\n",
    "print ( \"           minimum: \" , np.min (train_raw['usefulCount']), \"   maximum: \", np.max (train_raw['usefulCount']))"
   ]
  },
  {
   "cell_type": "markdown",
   "metadata": {},
   "source": [
    "#### Abstract:\n",
    "The useful count feature has a minimum of 0 and maximum of 1291 value.\n",
    "The avg useful count per rating is same across 1-5 but increases consistently from 6-10; this beahviour indicates that customers has found higher rating reviews more helpful."
   ]
  },
  {
   "cell_type": "markdown",
   "metadata": {},
   "source": [
    "### Date"
   ]
  },
  {
   "cell_type": "code",
   "execution_count": 74,
   "metadata": {},
   "outputs": [
    {
     "data": {
      "text/plain": [
       "<matplotlib.axes._subplots.AxesSubplot at 0x1af3186fa88>"
      ]
     },
     "execution_count": 74,
     "metadata": {},
     "output_type": "execute_result"
    },
    {
     "data": {
      "image/png": "[encoded data removed]",
      "text/plain": [
       "<Figure size 432x288 with 1 Axes>"
      ]
     },
     "metadata": {
      "needs_background": "light"
     },
     "output_type": "display_data"
    }
   ],
   "source": [
    "train_raw['datef'] = pd.to_datetime(train_raw.date, errors='coerce')\n",
    "train_raw['datef'].dt.year.value_counts().sort_index().plot( kind = 'bar', title = 'yearly frequnecy of reviews' )"
   ]
  },
  {
   "cell_type": "code",
   "execution_count": 75,
   "metadata": {},
   "outputs": [
    {
     "data": {
      "text/plain": [
       "<matplotlib.axes._subplots.AxesSubplot at 0x1af31a5f808>"
      ]
     },
     "execution_count": 75,
     "metadata": {},
     "output_type": "execute_result"
    },
    {
     "data": {
      "image/png": "[encoded data removed]",
      "text/plain": [
       "<Figure size 432x288 with 1 Axes>"
      ]
     },
     "metadata": {
      "needs_background": "light"
     },
     "output_type": "display_data"
    }
   ],
   "source": [
    "train_raw['datef'].dt.month.value_counts().sort_index().plot( kind = 'bar', title = 'monthly frequnecy of reviews' )"
   ]
  },
  {
   "cell_type": "code",
   "execution_count": 76,
   "metadata": {},
   "outputs": [
    {
     "data": {
      "text/plain": [
       "<matplotlib.axes._subplots.AxesSubplot at 0x1af31afcac8>"
      ]
     },
     "execution_count": 76,
     "metadata": {},
     "output_type": "execute_result"
    },
    {
     "data": {
      "image/png": "[encoded data removed]",
      "text/plain": [
       "<Figure size 432x288 with 1 Axes>"
      ]
     },
     "metadata": {
      "needs_background": "light"
     },
     "output_type": "display_data"
    }
   ],
   "source": [
    "train_raw['datef'].dt.weekday.value_counts().sort_index().plot( kind = 'bar', title = 'weekdays frequnecy of reviews' )"
   ]
  },
  {
   "cell_type": "markdown",
   "metadata": {},
   "source": [
    "#### Abstract:\n",
    "Either more reviews has been collected during recent years (2015-2017)  or more customers has reviewed during these years.\n",
    "The number of reviews vary slightly across the months.\n",
    "The reviews are generated more during the weekdays as compared to weekends."
   ]
  },
  {
   "cell_type": "markdown",
   "metadata": {},
   "source": []
  },
  {
   "cell_type": "markdown",
   "metadata": {},
   "source": [
    "# DATA PROCESSING FOR MODEL"
   ]
  },
  {
   "cell_type": "markdown",
   "metadata": {},
   "source": [
    "## Defining few helper functions for the data processing"
   ]
  },
  {
   "cell_type": "markdown",
   "metadata": {},
   "source": [
    "#### Passing parameters required for data prep"
   ]
  },
  {
   "cell_type": "code",
   "execution_count": 77,
   "metadata": {},
   "outputs": [],
   "source": [
    "param_prep = {\n",
    "        'vocab_size' : 10000 ,\n",
    "        'max_length' : 100 ,\n",
    "        'stopwords_no' : set({ 'no', 'not', 'but', \"haven't\", \"weren't\", \"wasn't\", \"doesn't\", 'off',\n",
    "                      \"hadn't\", \"mightn't\", \"couldn't\", \"shan't\", \"mustn't\", \"isn't\", \"won't\",\n",
    "                      \"needn't\", \"don't\", \"didn't\", \"shouldn't\", \"wouldn't\", \"hasn't\" }),\n",
    "        'oov_tok' : \"<OOV>\" ,\n",
    "        'padding_type' : 'post',\n",
    "        'trunc_type' : 'post'\n",
    "        }"
   ]
  },
  {
   "cell_type": "markdown",
   "metadata": {},
   "source": [
    "#### Helper function for changing the ratings from 10 level to 3 level\n",
    "- The 10 level ratings has been converted to 3 level indicating the extent/sentiment of the rating.\n",
    "    1-3: Demoter (identified as 0)\n",
    "    4-7: Neutral (identified as 1)\n",
    "    8-10: Promoter (identified as 2)"
   ]
  },
  {
   "cell_type": "code",
   "execution_count": 78,
   "metadata": {},
   "outputs": [],
   "source": [
    "def change_y (rating):\n",
    "    r1 = np.where ( rating < 4 , 0 , rating )\n",
    "    r2 = np.where ( r1 > 7 , 2 , r1 )\n",
    "    r3 = np.where ( r2 > 2 , 1  , r2 )\n",
    "    return r3"
   ]
  },
  {
   "cell_type": "markdown",
   "metadata": {},
   "source": [
    "#### Helper function for removing punctuation, stop words and stemming. \n",
    "\n",
    "- Removing Punctuation : Although punctuation can be automatically removed while using keras tokenizer, but since it was interacting with the stop words ( resulting in differnt words, eg 'it' vs '.it'), had to remove beforehand.\n",
    "- Removing stop words : Only removing neutral ones and not ones with 'no' ;  as these embarks meaning to the sentence . List of retained stop words can be found with param_prep dcitionary.\n",
    "- Stemming the sentence : It has 80,000 + unique words. The thought process is to remove duplicate words as much as possible to retain a unique set of 10,000 words at end. \n",
    "- Used PorterStemmer as it is older, less aggressive, simple and fast. "
   ]
  },
  {
   "cell_type": "code",
   "execution_count": 79,
   "metadata": {},
   "outputs": [],
   "source": [
    "def filter_punc_stop_stem_words ( train_sentences ):\n",
    "    stop_words_sel = ( set(stopwords.words('english'))  - param_prep['stopwords_no'] )\n",
    "    train_sentences2 = [ train_sentences[x].translate(str.maketrans('','', punctuation)) for x in range (len(train_sentences))]\n",
    "    train_sentences3 = train_sentences2\n",
    "    ps = PorterStemmer()\n",
    "    for i, sen in enumerate(train_sentences2) :\n",
    "        sent = [ ps.stem(w.lower()) for w in sen.split() if w.lower() not in stop_words_sel ]\n",
    "        train_sentences3[i] = ' '.join(sent)\n",
    "    return train_sentences3"
   ]
  },
  {
   "cell_type": "markdown",
   "metadata": {},
   "source": [
    "#### Helper function to create data for auxilliary input to the model \n",
    "\n",
    "- Apart from the text review, feeding factors like drugname, condition, review date and useful count.\n",
    "- Hence creating a seperate data for auxilliary input to layers of NN."
   ]
  },
  {
   "cell_type": "code",
   "execution_count": 80,
   "metadata": {},
   "outputs": [],
   "source": [
    "def aux_data ( tr ):\n",
    "    tr_aux1 = tr[['usefulCount' ,  'date']]\n",
    "    \"\"\"\n",
    "    tr_aux1['datef'] = pd.to_datetime(tr_aux1.date, errors='coerce')\n",
    "    tr_aux1['date_year'] = tr_aux1['datef'].dt.year  \n",
    "    tr_aux1['date_month'] = tr_aux1['datef'].dt.month\n",
    "    tr_aux1['date_weekday'] = tr_aux1['datef'].dt.weekday\n",
    "    \"\"\"\n",
    "    #tr_aux2 = pd.get_dummies(tr[ 'drugName' , condition'], prefix=['D', C'])\n",
    "    #tr_ax = pd.concat([tr_aux1, tr_aux2], axis = 1 )             , 'datef'\n",
    "    tr_ax = tr_aux1.drop(['date' ], axis = 1 )\n",
    "    return tr_ax"
   ]
  },
  {
   "cell_type": "markdown",
   "metadata": {},
   "source": [
    "## Training data: processing"
   ]
  },
  {
   "cell_type": "code",
   "execution_count": 81,
   "metadata": {},
   "outputs": [],
   "source": [
    "# creating a list of all the reviews and subsequnetly removing punctuations and stopwords.\n",
    "train_text = [x for x in train_raw.review]\n",
    "train_text1 = filter_punc_stop_stem_words ( train_text )\n",
    "\n",
    "# tokenizer\n",
    "tokenizer = Tokenizer(num_words = param_prep['vocab_size'] , oov_token = param_prep['oov_tok'] )\n",
    "tokenizer.fit_on_texts(train_text1)\n",
    "# creating sequence of tokens\n",
    "word_index = tokenizer.word_index\n",
    "seq = tokenizer.texts_to_sequences(train_text1)\n",
    "# padding\n",
    "seq_padded = pad_sequences(seq, padding = 'post' , maxlen = param_prep['max_length'] , truncating = param_prep['trunc_type'] ) \n",
    "\n",
    "\n",
    "# creating the train_y data ( dependent variable dataset)\n",
    "label3 = change_y(train_raw['rating']) \n",
    "\n",
    "# calling the auxilliary data creation helper function to create the aux input for training.\n",
    "train_aux = aux_data (train_raw)"
   ]
  },
  {
   "cell_type": "markdown",
   "metadata": {},
   "source": [
    "## Testing data: processing"
   ]
  },
  {
   "cell_type": "code",
   "execution_count": 82,
   "metadata": {},
   "outputs": [],
   "source": [
    "# creating a list of all the reviews and subsequnetly removing punctuations and stopwords.\n",
    "test_text = [x for x in test_raw.review]\n",
    "test_text1 = filter_punc_stop_stem_words ( test_text )\n",
    "\n",
    "# using the already trained tokenizer on test data\n",
    "seq_test = tokenizer.texts_to_sequences(test_text1)\n",
    "# padding\n",
    "seq_padded_test = pad_sequences(seq_test, padding = 'post' , maxlen = param_prep['max_length'] , truncating = param_prep['trunc_type'] ) \n",
    "\n",
    "# creating the test_y data ( dependent variable dataset)\n",
    "label3_test = change_y(test_raw['rating']) \n",
    "\n",
    "# calling the auxilliary data creation helper function to create the aux input for testing.\n",
    "test_aux = aux_data (test_raw)"
   ]
  },
  {
   "cell_type": "markdown",
   "metadata": {},
   "source": []
  },
  {
   "cell_type": "markdown",
   "metadata": {},
   "source": [
    "# TRAINING AND TESTING THE MODEL"
   ]
  },
  {
   "cell_type": "markdown",
   "metadata": {},
   "source": [
    "#### Passing parameters required for model creation"
   ]
  },
  {
   "cell_type": "code",
   "execution_count": 83,
   "metadata": {},
   "outputs": [
    {
     "name": "stdout",
     "output_type": "stream",
     "text": [
      "(161297, 100) (161297, 1) (161297,)\n",
      "(53766, 100) (53766, 1) (53766,)\n"
     ]
    }
   ],
   "source": [
    "param_mod = {\n",
    "        'embedding_dim' : 16 ,\n",
    "        'training_size' : 1024,\n",
    "        'epochs' : 25,\n",
    "        'GLOVE_DIR' : 'C:/Users/Apurva/Desktop/CaseStudy',\n",
    "        'GLOVE_FILE' : 'glove.840B.300d.txt',\n",
    "        'pkl_filename' : \"my_model.h5\" ,\n",
    "        'tok' : \"tokenizer.pickle\"\n",
    "        }\n",
    "print ( seq_padded.shape , train_aux.shape , label3.shape)\n",
    "print ( seq_padded_test.shape , test_aux.shape , label3_test.shape)"
   ]
  },
  {
   "cell_type": "markdown",
   "metadata": {},
   "source": [
    "#### Model"
   ]
  },
  {
   "cell_type": "code",
   "execution_count": 84,
   "metadata": {},
   "outputs": [
    {
     "name": "stdout",
     "output_type": "stream",
     "text": [
      "Model: \"model_3\"\n",
      "__________________________________________________________________________________________________\n",
      "Layer (type)                    Output Shape         Param #     Connected to                     \n",
      "==================================================================================================\n",
      "prim (InputLayer)               [(None, 100)]        0                                            \n",
      "__________________________________________________________________________________________________\n",
      "embedding_3 (Embedding)         (None, 100, 16)      160000      prim[0][0]                       \n",
      "__________________________________________________________________________________________________\n",
      "flatten_3 (Flatten)             (None, 1600)         0           embedding_3[0][0]                \n",
      "__________________________________________________________________________________________________\n",
      "aux (InputLayer)                [(None, 1)]          0                                            \n",
      "__________________________________________________________________________________________________\n",
      "concatenate_3 (Concatenate)     (None, 1601)         0           flatten_3[0][0]                  \n",
      "                                                                 aux[0][0]                        \n",
      "__________________________________________________________________________________________________\n",
      "dense_6 (Dense)                 (None, 10)           16020       concatenate_3[0][0]              \n",
      "__________________________________________________________________________________________________\n",
      "dense_7 (Dense)                 (None, 3)            33          dense_6[0][0]                    \n",
      "==================================================================================================\n",
      "Total params: 176,053\n",
      "Trainable params: 176,053\n",
      "Non-trainable params: 0\n",
      "__________________________________________________________________________________________________\n",
      "Train on 161297 samples, validate on 53766 samples\n",
      "Epoch 1/25\n",
      "161297/161297 - 4s - loss: 0.8095 - acc: 0.6513 - val_loss: 0.6698 - val_acc: 0.7225\n",
      "Epoch 2/25\n",
      "161297/161297 - 4s - loss: 0.6243 - acc: 0.7414 - val_loss: 0.6173 - val_acc: 0.7446\n",
      "Epoch 3/25\n",
      "161297/161297 - 4s - loss: 0.5686 - acc: 0.7673 - val_loss: 0.5976 - val_acc: 0.7546\n",
      "Epoch 4/25\n",
      "161297/161297 - 4s - loss: 0.5239 - acc: 0.7882 - val_loss: 0.5837 - val_acc: 0.7613\n",
      "Epoch 5/25\n",
      "161297/161297 - 4s - loss: 0.4769 - acc: 0.8121 - val_loss: 0.5754 - val_acc: 0.7688\n",
      "Epoch 6/25\n",
      "161297/161297 - 4s - loss: 0.4293 - acc: 0.8358 - val_loss: 0.5668 - val_acc: 0.7771\n",
      "Epoch 7/25\n",
      "161297/161297 - 4s - loss: 0.3820 - acc: 0.8582 - val_loss: 0.5669 - val_acc: 0.7848\n",
      "Epoch 8/25\n",
      "161297/161297 - 4s - loss: 0.3398 - acc: 0.8768 - val_loss: 0.5682 - val_acc: 0.7938\n",
      "Epoch 9/25\n",
      "161297/161297 - 4s - loss: 0.3022 - acc: 0.8939 - val_loss: 0.5740 - val_acc: 0.8004\n",
      "Epoch 10/25\n",
      "161297/161297 - 4s - loss: 0.2697 - acc: 0.9076 - val_loss: 0.5833 - val_acc: 0.8073\n",
      "Epoch 11/25\n",
      "161297/161297 - 4s - loss: 0.2415 - acc: 0.9191 - val_loss: 0.5982 - val_acc: 0.8137\n",
      "Epoch 12/25\n",
      "161297/161297 - 4s - loss: 0.2159 - acc: 0.9306 - val_loss: 0.6213 - val_acc: 0.8180\n",
      "Epoch 13/25\n",
      "161297/161297 - 4s - loss: 0.1945 - acc: 0.9394 - val_loss: 0.6414 - val_acc: 0.8223\n",
      "Epoch 14/25\n",
      "161297/161297 - 4s - loss: 0.1755 - acc: 0.9459 - val_loss: 0.6665 - val_acc: 0.8265\n",
      "Epoch 15/25\n",
      "161297/161297 - 4s - loss: 0.1588 - acc: 0.9522 - val_loss: 0.6934 - val_acc: 0.8302\n",
      "Epoch 16/25\n",
      "161297/161297 - 4s - loss: 0.1441 - acc: 0.9572 - val_loss: 0.7243 - val_acc: 0.8313\n",
      "Epoch 17/25\n",
      "161297/161297 - 4s - loss: 0.1307 - acc: 0.9621 - val_loss: 0.7527 - val_acc: 0.8337\n",
      "Epoch 18/25\n",
      "161297/161297 - 4s - loss: 0.1194 - acc: 0.9660 - val_loss: 0.7882 - val_acc: 0.8368\n",
      "Epoch 19/25\n",
      "161297/161297 - 4s - loss: 0.1088 - acc: 0.9694 - val_loss: 0.8215 - val_acc: 0.8352\n",
      "Epoch 20/25\n",
      "161297/161297 - 4s - loss: 0.0995 - acc: 0.9729 - val_loss: 0.8563 - val_acc: 0.8414\n",
      "Epoch 21/25\n",
      "161297/161297 - 4s - loss: 0.0918 - acc: 0.9752 - val_loss: 0.8965 - val_acc: 0.8399\n",
      "Epoch 22/25\n",
      "161297/161297 - 4s - loss: 0.0832 - acc: 0.9780 - val_loss: 0.9371 - val_acc: 0.8435\n",
      "Epoch 23/25\n",
      "161297/161297 - 4s - loss: 0.0768 - acc: 0.9798 - val_loss: 0.9757 - val_acc: 0.8438\n",
      "Epoch 24/25\n",
      "161297/161297 - 4s - loss: 0.0705 - acc: 0.9821 - val_loss: 1.0166 - val_acc: 0.8438\n",
      "Epoch 25/25\n",
      "161297/161297 - 4s - loss: 0.0641 - acc: 0.9840 - val_loss: 1.0620 - val_acc: 0.8430\n",
      "\n",
      "\n",
      "\n",
      "--------------------------    20 epochs    0.97 : training accurcay    0.84 : testing accuracy    --------------------------\n",
      "\n",
      "\n",
      "\n",
      "1  minutes taken\n"
     ]
    }
   ],
   "source": [
    "# creating a time variable for calculating the total time taken to run the training and validation.\n",
    "t = tp.time()\n",
    "# Input for feeding the starting layer\n",
    "aux_input = tf.keras.Input(shape=(train_aux.shape[1],), name='aux')\n",
    "# Aux Input for feeding after the flatten layer\n",
    "prim_input = tf.keras.Input( shape =(param_prep['max_length'] ) , name='prim')\n",
    "# Embedding throught the training data\n",
    "feat_embed = tf.keras.layers.Embedding(param_prep['vocab_size'] ,param_mod['embedding_dim'] , \n",
    "                                       input_length = param_prep['max_length'] )(prim_input)\n",
    "# Flatten the ( 161297 , 16 ) dimention\n",
    "feat_flat = tf.keras.layers.Flatten()(feat_embed)\n",
    "# Joining the output of flatten with aux input \n",
    "feat_con = tf.keras.layers.concatenate([feat_flat,aux_input])\n",
    "# Relu activation layer\n",
    "feat_dens = tf.keras.layers.Dense(10,activation = 'relu')(feat_con)\n",
    "# Softmax with 3 levels \n",
    "feat_sftm = tf.keras.layers.Dense(3,activation = 'softmax')(feat_dens)\n",
    "# creating Model instance\n",
    "model = tf.keras.Model(inputs=[prim_input, aux_input], outputs=[feat_sftm])\n",
    "model.summary()\n",
    "\n",
    "# Compiling the model\n",
    "model.compile( loss = 'sparse_categorical_crossentropy', optimizer = 'adam', metrics=['accuracy'])\n",
    "# Fitting the training data with simultaneously validating \n",
    "hist = model.fit({'prim': seq_padded ,'aux': train_aux } , label3, epochs = param_mod['epochs'] ,\n",
    "                  verbose = 2, batch_size = param_mod['training_size'], \n",
    "                  validation_data = ( {'prim':  seq_padded_test , 'aux': test_aux }, label3_test) )\n",
    "t1 = tp.time() - t \n",
    "\n",
    "print ( \"\\n\\n\\n--------------------------   \", hist.epoch[-6] + 1 ,\"epochs   \", round ( hist.history['acc'][-6] , 2 )  , \": training accurcay   \", \n",
    "       round ( hist.history['val_acc'][-6] , 2 ), \": testing accuracy    --------------------------\\n\\n\\n\" )\n",
    "print ( int ( t1 / 60 ) , \" minutes taken\" )"
   ]
  },
  {
   "cell_type": "code",
   "execution_count": 85,
   "metadata": {},
   "outputs": [
    {
     "data": {
      "image/png": "[encoded data removed]",
      "text/plain": [
       "<Figure size 432x288 with 1 Axes>"
      ]
     },
     "metadata": {
      "needs_background": "light"
     },
     "output_type": "display_data"
    }
   ],
   "source": [
    "plt.plot(hist.epoch, hist.history['acc'], label = \"acc\")\n",
    "plt.plot(hist.epoch, hist.history['val_acc'], label = \"val_acc\")\n",
    "plt.xlabel('epoch')\n",
    "plt.title('accuracies across epoch ')\n",
    "plt.legend()\n",
    "plt.show()"
   ]
  },
  {
   "cell_type": "markdown",
   "metadata": {},
   "source": [
    "#### MODEL SELECTION ABSTRACT"
   ]
  },
  {
   "cell_type": "markdown",
   "metadata": {},
   "source": [
    "We are utilizing Neural Network algorithm and Keras python library for building the model.\n",
    "As we have large data (>150M observation), and other libraries and algorithm would succumb under these conditions.\n",
    "\n",
    "In the process we have iterated across various \n",
    "    - NN architecture (SNN, single directional LSTM , Bidirectional LSTM, GRU), \n",
    "    - embedding (auto, Glove), \n",
    "    - regularization (L2) , \n",
    "    - auxilliary input ( different combination of drugname, condition, date & useful count )\n",
    "    - hyperparameters (number of layers, training size, number of epochs). \n",
    "\n",
    "The most efficient combination of them all was choosen based on complexity, run-time & resourse requirements. This choosen architecture has \n",
    "    - layer of embedding of size 16\n",
    "    - non-textual variable ( Useful Count) as auxilliary input\n",
    "    - relu layer with 10 hidden neuron\n",
    "    - softmax layer for 3 units\n",
    "\n",
    "#### This gives us a training accuracy of 97% and test accuracy of 85%.\n",
    "\n"
   ]
  },
  {
   "cell_type": "markdown",
   "metadata": {},
   "source": [
    "#### ITERATIONS ABSTRACT\n",
    "\n",
    "- NN architecture : we iterated through various architecture, but the most simple ones gave the best results. \n",
    "The Single direction LSTM under performed as compared to SNN and took substantially longer to run. While Bidirectional LSTM was marginally better over single LSTM and GRU. This can be because the sentiment could be purely being driven by presence of certain keywords as compared to the position of these keywords.\n",
    "\n",
    "- Embedding : Glove was deprioritised as it was resulting in large numbers of parameters for 1st layer\n",
    "Various numbers of embedding dimention was tried, most of them gave similiar output, whith a elbow at 16. Hence 16 was choosen over others. Glove was tried but required more powerful machine to execute.\n",
    "\n",
    "- Regularization : L2 regularization tested but was not effective\n",
    "We ran L2 regularization with 3 rates (0.001,0.0001,0.0005), but none of these showed the desired results. Hence regularization step was removed in the final model\n",
    "L1 and drop-out regularization was not tested as we had very few layers left in the model for a sparse kind of regularization to give a good results.\n",
    "\n",
    "- Auxilliary input: Few non-textual data points was feed into the model after flatten layer.\n",
    "The idea was to include these non textual provided features with the dataset. We tried various combinations of drugname (OneHotEncoding), condition(OneHotEncoding), date(year,month,weekday) & useful count. Obsereved that usage of only \"usefulCount\" feature gave a lift in accuracy of the existing model. Hence other features was not utilized in the final model.\n",
    "Other features could have made better combination in some other forms ; this has been included in next steps.\n",
    "\n",
    "- Hyperparamets: Lower number of layers / hidden unit performed better or similiar as compared to higher number of layers etc\n",
    "As seen earlier a simple and small network gave better result as compared to complex and large architecture.\n",
    "In the process we tried various numbers of - training size, layers, hidden units per layer and epochs.\n",
    "\n"
   ]
  },
  {
   "cell_type": "markdown",
   "metadata": {},
   "source": [
    "#### NEXT STEPS"
   ]
  },
  {
   "cell_type": "markdown",
   "metadata": {},
   "source": [
    "-1 The current framework is based on classification with 3 categories. \n",
    "We can also try to build a model with framework based on predicting absolute value ( regression ) with 1 to 10 rating as value output.\n",
    "   \n",
    "-2 In the current version, the auxilliary input contains direct features from the data.\n",
    "We can create new variables by grouping names of drug. These groups/segments could be based on either the drug type / drug genre / drug usage. But this extension is subject to domain expertise and project time. \n",
    "Like Drug name, we can also create new variables by grouping condition. These groups/segments could be based on either broader level of condition, severity of condition etc. But again, this would be subject to domain expertise and project timelines. \n",
    "Including these new features can through some light on relation between drugname & condition with ratings which would be utilized in prediction.\n",
    "    \n",
    "-3 There are few words in the cleaned data which are not meaningful (in terms of dictionary). Eg erroneous text, emoticons as text etc. We can go ahead and manually remove these combination if they fall inside the 10000 vocab size.\n",
    "\n",
    "-4 The training accurcay is higher ( more than 10% ) as compared to test/validation accuracy. One of the reasons for such scenarios is overfitting. Although we have tried L2 regularization and also that the test loss is not increasing ( but is either stable or decreasing ) in the span of 25 epoch; we can still try using drop-out regularization or L1 reqularization or include an attention layer or use KFold validation.\n",
    "\n",
    "-5 The other reason why training accuracy is much higher as compared to test: presence of lots of unknown tokens. This could happen due to a) only 10M of the 80M variables were tokenized and hence rest 70k is unknown. b) the tested text has texts which are not present in the training sample. \n",
    "In such case, we can increase the number of tokens / vocabulary, and hence decrease the unknown tokens as much as possible.\n",
    "\n",
    "-6 We can use GLOVE embedding. But since local system is not powerful enough to handle large numbers of parameters and we have time constraint, the current does not utilize Glove. The codes are provided below.\n",
    "\n"
   ]
  },
  {
   "cell_type": "markdown",
   "metadata": {},
   "source": [
    "#### Saving Model & Tokenizer"
   ]
  },
  {
   "cell_type": "code",
   "execution_count": null,
   "metadata": {},
   "outputs": [],
   "source": [
    "# saving model\n",
    "model.save(param_mod['pkl_filename'])  # creates a HDF5 file 'my_model.h5'\n",
    "# saving tokenizer\n",
    "joblib.dump(tokenizer, param_mod['tok'])"
   ]
  },
  {
   "cell_type": "markdown",
   "metadata": {},
   "source": [
    "#### Loading Model & Tokenizer"
   ]
  },
  {
   "cell_type": "code",
   "execution_count": null,
   "metadata": {},
   "outputs": [],
   "source": [
    "# loading model \n",
    "pickle_model = load_model(param_prep['pkl_filename']) \n",
    "# loading tokenizer\n",
    "tokenizer = joblib.load(param_prep['tok'])"
   ]
  },
  {
   "cell_type": "markdown",
   "metadata": {},
   "source": [
    "#### Predict"
   ]
  },
  {
   "cell_type": "code",
   "execution_count": null,
   "metadata": {},
   "outputs": [],
   "source": [
    "# predict model after creating the proper testing datasets from above\n",
    "test_loss , test_acc = pickle_model.evaluate(x={'prim':  seq_padded_test , 'aux': test_aux }, y=label3_test , batch_size= 1024, verbose=2)\n",
    "test_pred = pickle_model.predict( {'prim':  seq_padded_test , 'aux': test_aux } )"
   ]
  },
  {
   "cell_type": "markdown",
   "metadata": {},
   "source": [
    "\n",
    "\n"
   ]
  },
  {
   "cell_type": "markdown",
   "metadata": {},
   "source": [
    "# Code for other algorithm used during iterations"
   ]
  },
  {
   "cell_type": "markdown",
   "metadata": {},
   "source": [
    "## SNN with AUX input & L2 regularization"
   ]
  },
  {
   "cell_type": "code",
   "execution_count": null,
   "metadata": {},
   "outputs": [],
   "source": [
    "\"\"\"\n",
    "t = tp.time()\n",
    "aux_input = tf.keras.Input(shape=(train_aux.shape[1],), name='aux')\n",
    "prim_input = tf.keras.Input( shape =(param_prep['max_length'] ) , name='prim')\n",
    "feat_embed = tf.keras.layers.Embedding(param_prep['vocab_size'] ,param_mod['embedding_dim'] , input_length = param_prep['max_length'] )(prim_input)\n",
    "feat_flat = tf.keras.layers.Flatten()(feat_embed)\n",
    "feat_con = tf.keras.layers.concatenate([feat_flat,aux_input])\n",
    "feat_dens = tf.keras.layers.Dense(10, kernel_regularizer=regularizers.l2(0.001), activation = 'relu')(feat_con)\n",
    "feat_sftm = tf.keras.layers.Dense(3,activation = 'softmax')(feat_dens)\n",
    "model = tf.keras.Model(inputs=[prim_input, aux_input], outputs=[feat_sftm])\n",
    "model.summary()\n",
    "\n",
    "model.compile( loss = 'sparse_categorical_crossentropy', optimizer = 'adam', metrics=['accuracy'])\n",
    "hist = model.fit({'prim': seq_padded ,'aux': train_aux } , label3, epochs = 50 ,\n",
    "                  verbose = 2, batch_size = param_mod['training_size'], \n",
    "                  validation_data = ( {'prim':  seq_padded_test , 'aux': test_aux }, label3_test) )\n",
    "t1 = tp.time() - t \n",
    "print ( \"------------------------------------------------------------------------------------\" , hist.history['acc'][-1]  , hist.history['val_acc'][-1] )\n",
    "print ( int ( t1 / 60 ) , \" minutes taken\" )\n",
    "\n",
    "plt.plot(hist.epoch, hist.history['acc'], label = \"acc\")\n",
    "plt.plot(hist.epoch, hist.history['val_acc'], label = \"val_acc\")\n",
    "plt.xlabel('epoch')\n",
    "plt.title('accuracies across epoch ')\n",
    "plt.legend()\n",
    "plt.show()\n",
    "\"\"\""
   ]
  },
  {
   "cell_type": "markdown",
   "metadata": {},
   "source": [
    "## Glove embedding"
   ]
  },
  {
   "cell_type": "code",
   "execution_count": null,
   "metadata": {},
   "outputs": [],
   "source": [
    "\"\"\"\n",
    "def embedding():\n",
    "    embeddings_index = {}  \n",
    "    f = open(os.path.join(param_mod['GLOVE_DIR'], param_mod['GLOVE_FILE'] ), \"rb\", buffering=0)\n",
    "    #f = open(os.path.join(param_mod['GLOVE_DIR'], 'glove.840B.300d.txt'))              \n",
    "    for line in f:\n",
    "        values = line.split()\n",
    "        word = values[0]\n",
    "        coefs = np.asarray(values[1:], dtype='float32')\n",
    "        embeddings_index[word] = coefs\n",
    "    f.close()\n",
    "    print('Found %s word vectors.' % len(embeddings_index))\n",
    "\n",
    "    embedding_matrix = np.zeros((len(word_index) + 1, param_mod['embedding_dim'] ))\n",
    "    for word, i in word_index.items():\n",
    "        embedding_vector = embeddings_index.get(word)\n",
    "        if embedding_vector is not None:\n",
    "            embedding_matrix[i] = embedding_vector\n",
    "    return embedding_matrix\n",
    "\n",
    "embedding_matrix = embedding ()\n",
    "embedd_layer = Embedding(len(word_index) + 1, param_mod['embedding_dim'],\n",
    "                            weights=[embedding_matrix], input_length=param_prep['max_length'], trainable=False)\n",
    "seq_embedded = embedd_layer(seq_padded)\n",
    "seq_embedded_test = embedd_layer(seq_padded_test)\n",
    "\"\"\""
   ]
  },
  {
   "cell_type": "markdown",
   "metadata": {},
   "source": [
    "## Single LSTM with AUX input"
   ]
  },
  {
   "cell_type": "code",
   "execution_count": null,
   "metadata": {},
   "outputs": [],
   "source": [
    "\"\"\"\n",
    "t = tp.time()\n",
    "aux_input = tf.keras.Input(shape=(1,), name='aux')\n",
    "prim_input = tf.keras.Input( shape =(param_prep['max_length'] ) , name='prim')\n",
    "feat_embed = tf.keras.layers.Embedding(param_prep['vocab_size'] ,param_mod['embedding_dim'] , input_length = param_prep['max_length'] )(prim_input)\n",
    "feat_flat = tf.keras.layers.LSTM(10)(feat_embed)\n",
    "feat_con = tf.keras.layers.concatenate([feat_flat,aux_input])\n",
    "feat_dens = tf.keras.layers.Dense(20,activation = 'relu')(feat_con)\n",
    "feat_sftm = tf.keras.layers.Dense(3,activation = 'softmax')(feat_dens)\n",
    "model = tf.keras.Model(inputs=[prim_input, aux_input], outputs=[feat_sftm])\n",
    "model.summary()\n",
    "\n",
    "model.compile( loss = 'sparse_categorical_crossentropy', optimizer = 'adam', metrics=['accuracy'])\n",
    "hist = model.fit({'prim': seq_padded ,'aux': train_raw['usefulCount'] } , label3, epochs = 20 ,\n",
    "                  verbose = 2, batch_size = param_mod['training_size'], \n",
    "                  validation_data = ( {'prim':  seq_padded_test , 'aux': test_raw['usefulCount'] }, label3_test) )\n",
    "t1 = tp.time() - t \n",
    "print ( int ( t1 / 60 ) , \" minutes taken\" )\n",
    "\"\"\""
   ]
  },
  {
   "cell_type": "markdown",
   "metadata": {},
   "source": [
    "## DEEP LSTM (2 layers)"
   ]
  },
  {
   "cell_type": "code",
   "execution_count": null,
   "metadata": {},
   "outputs": [],
   "source": [
    "\"\"\"\n",
    "model = tf.keras.Sequential([\n",
    "        tf.keras.layers.Embedding(param_prep['vocab_size'] ,param_mod['embedding_dim'] , input_length = param_prep['max_length'] ),\n",
    "        tf.keras.layers.Bidirectional(tf.keras.layers.LSTM (48, return_sequences = True)),\n",
    "        tf.keras.layers.Bidirectional(tf.keras.layers.LSTM (24)),\n",
    "        tf.keras.layers.Dense(20,activation = 'relu'),\n",
    "        tf.keras.layers.Dense(10,activation = 'softmax')\n",
    "        ])\n",
    "model.summary()\n",
    "model.compile( loss = 'sparse_categorical_crossentropy', optimizer = 'adam', metrics=['accuracy'])\n",
    "hist = model.fit(seq_padded, label, epochs = param_mod['epochs'] ,\n",
    "                 validation_data = ( seq_padded_test, label_test) , \n",
    "                 verbose = 2, batch_size = param_mod['training_size'] )\n",
    "                 \"\"\""
   ]
  },
  {
   "cell_type": "markdown",
   "metadata": {},
   "source": [
    "## Single GRU"
   ]
  },
  {
   "cell_type": "code",
   "execution_count": null,
   "metadata": {},
   "outputs": [],
   "source": [
    "\"\"\"\n",
    "model = tf.keras.Sequential([\n",
    "        tf.keras.layers.Embedding(param_prep['vocab_size'] ,param_mod['embedding_dim'] , input_length = param_prep['max_length'] ),\n",
    "        tf.keras.layers.Bidirectional(tf.keras.layers.GRU (48)),\n",
    "        tf.keras.layers.Dense(20,activation = 'relu'),\n",
    "        tf.keras.layers.Dense(10,activation = 'softmax')\n",
    "        ])\n",
    "model.summary()\n",
    "model.compile( loss = 'sparse_categorical_crossentropy', optimizer = 'adam', metrics=['accuracy'])\n",
    "hist = model.fit(seq_padded, label, epochs = param_mod['epochs'] ,\n",
    "                 validation_data = ( seq_padded_test, label_test) , \n",
    "                 verbose = 2, batch_size = param_mod['training_size'] )\n",
    "                 \"\"\""
   ]
  },
  {
   "cell_type": "markdown",
   "metadata": {},
   "source": [
    "## Single LSTM"
   ]
  },
  {
   "cell_type": "code",
   "execution_count": null,
   "metadata": {},
   "outputs": [],
   "source": [
    "\"\"\"\n",
    "model = tf.keras.Sequential([\n",
    "        tf.keras.layers.Embedding(param_prep['vocab_size'] ,param_mod['embedding_dim'] , input_length = param_prep['max_length'] ),\n",
    "        tf.keras.layers.Bidirectional(tf.keras.layers.LSTM (10)),\n",
    "        tf.keras.layers.Dense(20,activation = 'relu'),\n",
    "        tf.keras.layers.Dense(10,activation = 'softmax')\n",
    "        ])\n",
    "model.summary()\n",
    "model.compile( loss = 'sparse_categorical_crossentropy', optimizer = 'adam', metrics=['accuracy'])\n",
    "hist = model.fit(seq_padded, label, epochs = param_mod['epochs'] ,\n",
    "                 validation_data = ( seq_padded_test, label_test) , \n",
    "                 verbose = 2, batch_size = param_mod['training_size'] )\n",
    "                 \"\"\""
   ]
  },
  {
   "cell_type": "markdown",
   "metadata": {},
   "source": [
    "## SNN"
   ]
  },
  {
   "cell_type": "code",
   "execution_count": null,
   "metadata": {},
   "outputs": [],
   "source": [
    "\"\"\"\n",
    "model = tf.keras.Sequential([\n",
    "        tf.keras.layers.Embedding(param_prep['vocab_size'] ,param_mod['embedding_dim'] , input_length = param_prep['max_length'] ),\n",
    "        tf.keras.layers.Flatten(),\n",
    "        tf.keras.layers.Dense(20,activation = 'relu'),\n",
    "        tf.keras.layers.Dense(3,activation = 'softmax')\n",
    "        ])\n",
    "model.summary()\n",
    "\n",
    "model.compile( loss = 'sparse_categorical_crossentropy', optimizer = 'adam', metrics=['accuracy'])\n",
    "hist = model.fit(seq_padded, label3, epochs = param_mod['epochs'] ,\n",
    "                 validation_data = ( seq_padded_test, label3_test) , \n",
    "                 verbose = 2, batch_size = param_mod['training_size'] )\n",
    "\"\"\""
   ]
  }
 ],
 "metadata": {
  "kernelspec": {
   "display_name": "Python 3",
   "language": "python",
   "name": "python3"
  },
  "language_info": {
   "codemirror_mode": {
    "name": "ipython",
    "version": 3
   },
   "file_extension": ".py",
   "mimetype": "text/x-python",
   "name": "python",
   "nbconvert_exporter": "python",
   "pygments_lexer": "ipython3",
   "version": "3.7.4"
  }
 },
 "nbformat": 4,
 "nbformat_minor": 2
}
